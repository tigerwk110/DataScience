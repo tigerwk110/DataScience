{
 "cells": [
  {
   "cell_type": "markdown",
   "metadata": {},
   "source": [
    "# tf.nn 常用API\n",
    "\n",
    "## tf.nn.conv2d"
   ]
  },
  {
   "cell_type": "code",
   "execution_count": 3,
   "metadata": {},
   "outputs": [
    {
     "data": {
      "text/plain": [
       "\"\\ntf.nn.conv2d(\\n    input,\\n    filter,\\n    strides,\\n    padding,\\n    use_cudnn_on_gpu=True,\\n    data_format='NHWC',\\n    dilations=[1, 1, 1, 1],\\n    name=None\\n)\\n\""
      ]
     },
     "execution_count": 3,
     "metadata": {},
     "output_type": "execute_result"
    }
   ],
   "source": [
    "'''\n",
    "tf.nn.conv2d(\n",
    "    input,\n",
    "    filter,\n",
    "    strides,\n",
    "    padding,\n",
    "    use_cudnn_on_gpu=True,\n",
    "    data_format='NHWC',\n",
    "    dilations=[1, 1, 1, 1],\n",
    "    name=None\n",
    ")\n",
    "'''"
   ]
  },
  {
   "cell_type": "markdown",
   "metadata": {},
   "source": [
    "功能：计算一个4维的输入与一个二维的filter的卷积操作。\n",
    "\n",
    "输入的维度:`[batch, in_height, in_width, in_channels]`\n",
    "\n",
    "filter的维度：`[filter_height, filter_width, in_channels, out_channels]`\n",
    "\n",
    "参数：\n",
    "- input: 是一个tensorf，类型必须是 half, bfloat16, float32, float64。维度是4维。四个维度的顺序取决于data_format参数。\n",
    "- filter: 是一个tensor。必须与输入的tensor有相同的数据类型。也是一个4维的tensor，分别是`[filter_height, filter_width, in_channels, out_channels]`。\n",
    "- strides：是一个int类型的长度为4的列表。窗口滑动的步长。第一个元素和最后一个元素必须是1。[1, 1, 1, 1]\n",
    "- padding：'SAME'或则'VALID'。必须是大写。\n",
    "- use_cudnn_on_gpu: 默认是True\n",
    "- data_format: 'NHWC'或者'NCHW'。 默认是'NHWC'。 N代表batch，H代表高度，W代表宽度，C代表channel\n",
    "- dilations: 第一个（batch）与最后一个（depth）必须是1。如果k>1, 那么filter中的元素会对每隔k-1个元素进行计算。\n",
    "- name: op的名字"
   ]
  },
  {
   "cell_type": "markdown",
   "metadata": {},
   "source": [
    "## tf.nn.max_pool"
   ]
  },
  {
   "cell_type": "code",
   "execution_count": 4,
   "metadata": {},
   "outputs": [
    {
     "data": {
      "text/plain": [
       "\"\\ntf.nn.max_pool(\\n    value,\\n    ksize,\\n    strides,\\n    padding,\\n    data_format='NHWC',\\n    name=None\\n)\\n\""
      ]
     },
     "execution_count": 4,
     "metadata": {},
     "output_type": "execute_result"
    }
   ],
   "source": [
    "'''\n",
    "tf.nn.max_pool(\n",
    "    value,\n",
    "    ksize,\n",
    "    strides,\n",
    "    padding,\n",
    "    data_format='NHWC',\n",
    "    name=None\n",
    ")\n",
    "'''"
   ]
  },
  {
   "cell_type": "markdown",
   "metadata": {},
   "source": [
    "功能：max pooling层\n",
    "\n",
    "参数：\n",
    "- value: 输入的tensor。维度是4维，四个维度的顺序取决于data_format参数。\n",
    "- ksize: 是一个int类型的列表。求最大值的窗口\n",
    "- strides: 是一个int类型的列表。窗口滑动的步长。第一个元素和最后一个元素必须是1。\n",
    "- padding: 'SAME'或则'VALID'。必须是大写。\n",
    "- data_format: 'NHWC'或者'NCHW'。 默认是'NHWC'。 N代表batch，H代表高度，W代表宽度，C代表channel\n",
    "- name: op的名字"
   ]
  },
  {
   "cell_type": "markdown",
   "metadata": {},
   "source": [
    "## tf.nn.avg_pool"
   ]
  },
  {
   "cell_type": "code",
   "execution_count": 5,
   "metadata": {},
   "outputs": [
    {
     "data": {
      "text/plain": [
       "\"\\ntf.nn.avg_pool(\\n    value,\\n    ksize,\\n    strides,\\n    padding,\\n    data_format='NHWC',\\n    name=None\\n)\\n\""
      ]
     },
     "execution_count": 5,
     "metadata": {},
     "output_type": "execute_result"
    }
   ],
   "source": [
    "'''\n",
    "tf.nn.avg_pool(\n",
    "    value,\n",
    "    ksize,\n",
    "    strides,\n",
    "    padding,\n",
    "    data_format='NHWC',\n",
    "    name=None\n",
    ")\n",
    "'''"
   ]
  },
  {
   "cell_type": "markdown",
   "metadata": {},
   "source": [
    "功能：average pooling层\n",
    "\n",
    "参数：\n",
    "- value: 输入的tensor。维度是4维，四个维度的顺序取决于data_format参数。\n",
    "- ksize: 是一个int类型的列表。求最大值的窗口\n",
    "- strides: 是一个int类型的列表。窗口滑动的步长。第一个元素和最后一个元素必须是1。\n",
    "- padding: 'SAME'或则'VALID'。必须是大写。\n",
    "- data_format: 'NHWC'或者'NCHW'。 默认是'NHWC'。 N代表batch，H代表高度，W代表宽度，C代表channel\n",
    "- name: op的名字"
   ]
  },
  {
   "cell_type": "markdown",
   "metadata": {},
   "source": [
    "## tf.nn.dropout"
   ]
  },
  {
   "cell_type": "code",
   "execution_count": 6,
   "metadata": {},
   "outputs": [
    {
     "data": {
      "text/plain": [
       "'\\ntf.nn.dropout(\\n    x,\\n    keep_prob=None,\\n    noise_shape=None,\\n    seed=None,\\n    name=None,\\n    rate=None\\n)\\n'"
      ]
     },
     "execution_count": 6,
     "metadata": {},
     "output_type": "execute_result"
    }
   ],
   "source": [
    "'''\n",
    "tf.nn.dropout(\n",
    "    x,\n",
    "    keep_prob=None,\n",
    "    noise_shape=None,\n",
    "    seed=None,\n",
    "    name=None,\n",
    "    rate=None\n",
    ")\n",
    "'''"
   ]
  },
  {
   "cell_type": "markdown",
   "metadata": {},
   "source": [
    "功能：dropout\n",
    "\n",
    "参数：\n",
    "- x: float类型的tensor\n",
    "- keep_prob: 停止使用，请使用rate， rate = 1 - keep_prob\n",
    "- noise_shape: 是一个int32的1维tensor。代表随机产生的kee/drop的flags\n",
    "- rate: 关闭的比率\n",
    "- name: op的名字"
   ]
  },
  {
   "cell_type": "markdown",
   "metadata": {},
   "source": [
    "## tf.nn.relue"
   ]
  },
  {
   "cell_type": "code",
   "execution_count": 7,
   "metadata": {},
   "outputs": [
    {
     "data": {
      "text/plain": [
       "'\\ntf.nn.relu(\\n    features,\\n    name=None\\n)\\n'"
      ]
     },
     "execution_count": 7,
     "metadata": {},
     "output_type": "execute_result"
    }
   ],
   "source": [
    "'''\n",
    "tf.nn.relu(\n",
    "    features,\n",
    "    name=None\n",
    ")\n",
    "'''"
   ]
  },
  {
   "cell_type": "markdown",
   "metadata": {},
   "source": [
    "功能： relue激活函数\n",
    "\n",
    "参数：\n",
    "- features: 输入的tensor，必须是float32, float64, int32, uint8, int16, int8, int64, bfloat16, uint16, half, uint32, uint64, qint8类型\n",
    "- name: op的名字"
   ]
  },
  {
   "cell_type": "markdown",
   "metadata": {},
   "source": [
    "## tf.nn.softmax"
   ]
  },
  {
   "cell_type": "code",
   "execution_count": 8,
   "metadata": {},
   "outputs": [
    {
     "data": {
      "text/plain": [
       "'\\ntf.nn.softmax(\\n    logits,\\n    axis=None,\\n    name=None,\\n    dim=None\\n)\\n'"
      ]
     },
     "execution_count": 8,
     "metadata": {},
     "output_type": "execute_result"
    }
   ],
   "source": [
    "'''\n",
    "tf.nn.softmax(\n",
    "    logits,\n",
    "    axis=None,\n",
    "    name=None,\n",
    "    dim=None\n",
    ")\n",
    "'''"
   ]
  },
  {
   "cell_type": "markdown",
   "metadata": {},
   "source": [
    "功能：softmax函数\n",
    "\n",
    "参数：\n",
    "- logits: 非空的tensor，必须是half, float32, float64。\n",
    "- axis: 求softmax的轴\n",
    "- name: op的名字\n",
    "- dim：将会被弃用，以后使用axis参数"
   ]
  },
  {
   "cell_type": "markdown",
   "metadata": {},
   "source": [
    "## tf.nn.softmax_cross_entropy_with_logits_v2\n",
    "tf.nn.softmax_cross_entropy_with_logits的升级版，tf.nn.softmax_cross_entropy_with_logits_v2将会在未来版本中放弃使用"
   ]
  },
  {
   "cell_type": "code",
   "execution_count": 9,
   "metadata": {},
   "outputs": [
    {
     "data": {
      "text/plain": [
       "'\\ntf.nn.softmax_cross_entropy_with_logits_v2(\\n    labels,\\n    logits,\\n    axis=None,\\n    name=None,\\n    dim=None\\n)\\n'"
      ]
     },
     "execution_count": 9,
     "metadata": {},
     "output_type": "execute_result"
    }
   ],
   "source": [
    "'''\n",
    "tf.nn.softmax_cross_entropy_with_logits_v2(\n",
    "    labels,\n",
    "    logits,\n",
    "    axis=None,\n",
    "    name=None,\n",
    "    dim=None\n",
    ")\n",
    "'''"
   ]
  },
  {
   "cell_type": "markdown",
   "metadata": {},
   "source": [
    "功能：计算labels(真实值)和logits（预测值）的softmax交叉熵损失。\n",
    "\n",
    "注意：会对logits做一个softmax处理，所以，logits不应该是softmax后的结果。\n",
    "\n",
    "参数：\n",
    "- lables: 真是值。labels的形状为`[batch_size, num_classes]`, 每一行必须是labels[i]的有效概率分布。（其实是对应类别的概率为1）\n",
    "- logits：预测值\n",
    "- name: op的名字\n",
    "- axis: class的维度。默认是-1， 最后一个维度\n"
   ]
  }
 ],
 "metadata": {
  "kernelspec": {
   "display_name": "Environment (conda_pytorch_p36)",
   "language": "python",
   "name": "conda_pytorch_p36"
  },
  "language_info": {
   "codemirror_mode": {
    "name": "ipython",
    "version": 3
   },
   "file_extension": ".py",
   "mimetype": "text/x-python",
   "name": "python",
   "nbconvert_exporter": "python",
   "pygments_lexer": "ipython3",
   "version": "3.6.5"
  }
 },
 "nbformat": 4,
 "nbformat_minor": 2
}
