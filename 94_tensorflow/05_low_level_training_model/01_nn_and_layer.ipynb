{
 "cells": [
  {
   "cell_type": "markdown",
   "metadata": {},
   "source": [
    "# Tensorflow API 中的tf.nn，tf.layers与tf.contrib\n",
    "\n",
    "我们在使用tensorflow时，会发现tf.nn，tf.layers， tf.contrib模块有很多功能是重复的，尤其是卷积操作。\n",
    "\n",
    "在使用的时候，我们可以根据需使用不同的模块也可以一起混用。"
   ]
  },
  {
   "cell_type": "markdown",
   "metadata": {},
   "source": [
    "## tf.nn\n",
    "tf.nn ：提供神经网络相关操作的支持，包括卷积操作（conv）、池化操作（pooling）、归一化、loss、分类操作、embedding、RNN、Evaluation。\n",
    "\n",
    "## tf.layers\n",
    "定义在tensorflow/python/layers/layers.py, 为我们提供了一些高层次的构建神经网络的接口。\n",
    "今后会被放到keras模块中\n",
    "\n",
    "## tf.contrib\n",
    "tf.contrib.layers提供够将计算图中的 网络层、正则化、摘要操作、是构建计算图的高级操作，但是tf.contrib包含不稳定和实验代码。\n",
    "\n",
    "tF.Contrib，开源社区贡献，新功能，内外部测试，根据反馈意见改进性能，改善API友好度，API稳定后，移到TensorFlow核心模块。"
   ]
  },
  {
   "cell_type": "markdown",
   "metadata": {},
   "source": [
    "<img src=\"./images/05_01.png\"> <br>"
   ]
  },
  {
   "cell_type": "markdown",
   "metadata": {},
   "source": [
    "## 以conv2d举例\n",
    "让我们看一下tf.nn.conv2d和tf.layers.conv2d之间的显着差异。\n",
    "\n",
    "tf.layers.conv2d只需要传入输入的tensor、卷积核的数目、卷积核size等一些必须的参数。一行代码即可以解决。"
   ]
  },
  {
   "cell_type": "markdown",
   "metadata": {},
   "source": [
    "<img src=\"./images/05_02.png\"> <br>"
   ]
  },
  {
   "cell_type": "markdown",
   "metadata": {},
   "source": [
    "使用tf.nn.conv2d创建卷积层，必须在将权重变量传递给函数之前，声明权重变量（或者其他所需要的变量）。\n",
    "\n",
    "如果需要激活函数，需要单独另外一行代码。\n",
    "<img src=\"./images/05_03.png\"> <br>\n",
    "而tf.layers.conv2d中不但包含激活函数的选项，还包含了参数正则化的选项。"
   ]
  }
 ],
 "metadata": {
  "kernelspec": {
   "display_name": "Environment (conda_tensorflow_p36)",
   "language": "python",
   "name": "conda_tensorflow_p36"
  },
  "language_info": {
   "codemirror_mode": {
    "name": "ipython",
    "version": 3
   },
   "file_extension": ".py",
   "mimetype": "text/x-python",
   "name": "python",
   "nbconvert_exporter": "python",
   "pygments_lexer": "ipython3",
   "version": "3.6.5"
  }
 },
 "nbformat": 4,
 "nbformat_minor": 2
}
