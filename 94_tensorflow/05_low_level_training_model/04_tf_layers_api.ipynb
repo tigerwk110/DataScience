{
 "cells": [
  {
   "cell_type": "markdown",
   "metadata": {},
   "source": [
    "# tf.layers 常用API\n",
    "Public API for tf.layers namespace.\n",
    "\n",
    "## tf.layers.conv2d"
   ]
  },
  {
   "cell_type": "code",
   "execution_count": null,
   "metadata": {},
   "outputs": [],
   "source": [
    "'''\n",
    "tf.layers.conv2d(\n",
    "    inputs,\n",
    "    filters,\n",
    "    kernel_size,\n",
    "    strides=(1, 1),\n",
    "    padding='valid',\n",
    "    data_format='channels_last',\n",
    "    dilation_rate=(1, 1),\n",
    "    activation=None,\n",
    "    use_bias=True,\n",
    "    kernel_initializer=None,\n",
    "    bias_initializer=tf.zeros_initializer(),\n",
    "    kernel_regularizer=None,\n",
    "    bias_regularizer=None,\n",
    "    activity_regularizer=None,\n",
    "    kernel_constraint=None,\n",
    "    bias_constraint=None,\n",
    "    trainable=True,\n",
    "    name=None,\n",
    "    reuse=None\n",
    ")\n",
    "'''"
   ]
  },
  {
   "cell_type": "markdown",
   "metadata": {},
   "source": [
    "功能：卷积层\n",
    "\n",
    "参数：\n",
    "- inputs: 输入的tensor\n",
    "- filters: 整型。卷积核的通道数\n",
    "- kernel_size: 卷积核大小。是一个二维的列表或者元祖\n",
    "- strides: 滑动窗口的步长。是一个二维的列表或者元祖\n",
    "- padding： 'same'或者'valid'大小写不敏感\n",
    "- data_format: 输入数据的类型。`'channels_last'` 是默认值，通道在最后一个维度。'channels_first'`通道在第一个维度。\n",
    "- dilation_rate：是一个二维的列表或者元祖。空洞卷积的比率\n",
    "- activation: 激活函数\n",
    "- use_bias： 是否使用bias\n",
    "\n",
    "有关初始化的方法，请参考tf.initializers模块"
   ]
  },
  {
   "cell_type": "markdown",
   "metadata": {},
   "source": [
    "## tf.layers.dense"
   ]
  },
  {
   "cell_type": "code",
   "execution_count": null,
   "metadata": {},
   "outputs": [],
   "source": [
    "'''\n",
    "tf.layers.dense(\n",
    "    inputs,\n",
    "    units,\n",
    "    activation=None,\n",
    "    use_bias=True,\n",
    "    kernel_initializer=None,\n",
    "    bias_initializer=tf.zeros_initializer(),\n",
    "    kernel_regularizer=None,\n",
    "    bias_regularizer=None,\n",
    "    activity_regularizer=None,\n",
    "    kernel_constraint=None,\n",
    "    bias_constraint=None,\n",
    "    trainable=True,\n",
    "    name=None,\n",
    "    reuse=None\n",
    ")\n",
    "'''"
   ]
  },
  {
   "cell_type": "markdown",
   "metadata": {},
   "source": [
    "功能： 全联接层\n",
    "\n",
    "参数：\n",
    "- inputs: 输入的tensor\n",
    "- units：integer or long. 输出的维度\n",
    "- activation: 激活函数\n",
    "- use_bias： 是否使用bias\n",
    "- reuse: 布尔类型，是否使用前一层的权重\n",
    "\n",
    "有关初始化的方法，请参考tf.initializers模块"
   ]
  },
  {
   "cell_type": "markdown",
   "metadata": {},
   "source": [
    "## tf.layers.max_pooling2d "
   ]
  },
  {
   "cell_type": "code",
   "execution_count": null,
   "metadata": {},
   "outputs": [],
   "source": [
    "'''\n",
    "tf.layers.max_pooling2d(\n",
    "    inputs,\n",
    "    pool_size,\n",
    "    strides,\n",
    "    padding='valid',\n",
    "    data_format='channels_last',\n",
    "    name=None\n",
    ")\n",
    "'''"
   ]
  },
  {
   "cell_type": "markdown",
   "metadata": {},
   "source": [
    "功能：max pooling层\n",
    "\n",
    "参数：\n",
    "- inputs: 输入的tensor。维度是4维。\n",
    "- pool_size: 是一个由2个整型组成的列表或者元祖(pool_height, pool_width)。求最大值的窗口\n",
    "- strides: 是一个由2个整型组成的列表或者元祖。窗口滑动的步长。\n",
    "- padding: 'SAME'或则'VALID'。大小写不敏感\n",
    "- data_format: 输入数据的类型。`'channels_last'` 是默认值，通道在最后一个维度。'channels_first'`通道在第一个维度。\n",
    "- name: op的名字"
   ]
  },
  {
   "cell_type": "markdown",
   "metadata": {},
   "source": [
    "## tf.layers.average_pooling2d"
   ]
  },
  {
   "cell_type": "code",
   "execution_count": null,
   "metadata": {},
   "outputs": [],
   "source": [
    "'''\n",
    "tf.layers.average_pooling2d(\n",
    "    inputs,\n",
    "    pool_size,\n",
    "    strides,\n",
    "    padding='valid',\n",
    "    data_format='channels_last',\n",
    "    name=None\n",
    ")\n",
    "\n",
    "'''"
   ]
  },
  {
   "cell_type": "markdown",
   "metadata": {},
   "source": [
    "功能：average pooling层\n",
    "\n",
    "参数：\n",
    "- inputs: 输入的tensor。维度是4维。\n",
    "- pool_size: 是一个由2个整型组成的列表或者元祖(pool_height, pool_width)。求均值值的窗口\n",
    "- strides: 是一个由2个整型组成的列表或者元祖。窗口滑动的步长。\n",
    "- padding: 'SAME'或则'VALID'。大小写不敏感\n",
    "- data_format: 输入数据的类型。`'channels_last'` 是默认值，通道在最后一个维度。'channels_first'`通道在第一个维度。\n",
    "- name: op的名字"
   ]
  },
  {
   "cell_type": "markdown",
   "metadata": {},
   "source": [
    "## tf.losses.softmax_cross_entropy"
   ]
  },
  {
   "cell_type": "code",
   "execution_count": null,
   "metadata": {},
   "outputs": [],
   "source": [
    "'''\n",
    "tf.losses.softmax_cross_entropy(\n",
    "    onehot_labels,\n",
    "    logits,\n",
    "    weights=1.0,\n",
    "    label_smoothing=0,\n",
    "    scope=None,\n",
    "    loss_collection=tf.GraphKeys.LOSSES,\n",
    "    reduction=Reduction.SUM_BY_NONZERO_WEIGHTS\n",
    ")\n",
    "'''"
   ]
  },
  {
   "cell_type": "markdown",
   "metadata": {},
   "source": [
    "使用tf.nn.softmax_cross_entropy_with_logits_v2计算softmax交叉熵损失\n"
   ]
  }
 ],
 "metadata": {
  "kernelspec": {
   "display_name": "Environment (conda_pytorch_p36)",
   "language": "python",
   "name": "conda_pytorch_p36"
  },
  "language_info": {
   "codemirror_mode": {
    "name": "ipython",
    "version": 3
   },
   "file_extension": ".py",
   "mimetype": "text/x-python",
   "name": "python",
   "nbconvert_exporter": "python",
   "pygments_lexer": "ipython3",
   "version": "3.6.5"
  }
 },
 "nbformat": 4,
 "nbformat_minor": 2
}
