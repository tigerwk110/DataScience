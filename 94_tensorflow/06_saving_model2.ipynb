{
 "cells": [
  {
   "cell_type": "markdown",
   "metadata": {},
   "source": [
    "# Saved Model"
   ]
  },
  {
   "cell_type": "markdown",
   "metadata": {},
   "source": [
    "在使用 TensorFlow Serving 时，会用到这种格式的模型。该格式为 GraphDef 和 CheckPoint 的结合体。从 SavedModel 中可以提取 GraphDef 和 CheckPoint 对象。\n",
    "\n",
    "模型的存储结构如下：\n",
    "\n",
    "└── 1\n",
    "···├── saved_model.pb\n",
    "···└── variables\n",
    "·········├── variables.data-00000-of-00001\n",
    "·········└── variables.index"
   ]
  },
  {
   "cell_type": "code",
   "execution_count": 3,
   "metadata": {},
   "outputs": [
    {
     "name": "stdout",
     "output_type": "stream",
     "text": [
      "WARNING:tensorflow:From /home/ec2-user/anaconda3/envs/tensorflow_p36/lib/python3.6/site-packages/tensorflow/python/framework/op_def_library.py:263: colocate_with (from tensorflow.python.framework.ops) is deprecated and will be removed in a future version.\n",
      "Instructions for updating:\n",
      "Colocations handled automatically by placer.\n",
      "<tf.Variable 'w1:0' shape=(2,) dtype=float32_ref>\n",
      "Tensor(\"w2:0\", shape=(5,), dtype=int32)\n"
     ]
    },
    {
     "data": {
      "text/plain": [
       "'./ckpts/model.ckpt-1'"
      ]
     },
     "execution_count": 3,
     "metadata": {},
     "output_type": "execute_result"
    }
   ],
   "source": [
    "import tensorflow as tf\n",
    "\n",
    "sess = tf.InteractiveSession()\n",
    "\n",
    "w1 = tf.Variable(tf.random_normal(shape=[2]), name='w1')\n",
    "w2 = tf.constant([1, 2, 3, 4, 5], shape=[5] , name='w2')\n",
    "print(w1)\n",
    "print(w2)\n",
    "# 使用tf.train.Saver()定义一个存储器对象\n",
    "saver = tf.train.Saver()\n",
    "sess = tf.Session()\n",
    "sess.run(tf.global_variables_initializer())\n",
    "\n",
    "# 使用saver.save保存模型\n",
    "#saver.save(sess, 'model')\n",
    "\n",
    "# 保存相应变量到指定文件, 如果指定 global_step, 则实际保存的名称变为 model.ckpt-xxxx\n",
    "# saver.save(sess, \"./model.ckpt\", global_step=epoch)\n",
    "saver.save(sess, './ckpts/model.ckpt', global_step=1)"
   ]
  },
  {
   "cell_type": "code",
   "execution_count": 4,
   "metadata": {},
   "outputs": [],
   "source": [
    "! rm -rf './saved_model'"
   ]
  },
  {
   "cell_type": "markdown",
   "metadata": {},
   "source": [
    "## Saved Model 保存"
   ]
  },
  {
   "cell_type": "code",
   "execution_count": 5,
   "metadata": {},
   "outputs": [
    {
     "name": "stdout",
     "output_type": "stream",
     "text": [
      "INFO:tensorflow:No assets to save.\n",
      "INFO:tensorflow:No assets to write.\n",
      "INFO:tensorflow:SavedModel written to: ./saved_model/saved_model.pb\n"
     ]
    },
    {
     "data": {
      "text/plain": [
       "b'./saved_model/saved_model.pb'"
      ]
     },
     "execution_count": 5,
     "metadata": {},
     "output_type": "execute_result"
    }
   ],
   "source": [
    "saved_model_dir = './saved_model'\n",
    "builder = tf.saved_model.builder.SavedModelBuilder(saved_model_dir)\n",
    "builder.add_meta_graph_and_variables(sess, ['saved_model_demo'])\n",
    "builder.save()"
   ]
  },
  {
   "cell_type": "markdown",
   "metadata": {},
   "source": [
    "add_meta_graph_and_variables方法：\n",
    "\n",
    "导入graph的信息以及变量，这个方法假设变量都已经初始化好了，对于每个SavedModelBuilder这个方法一定要执行一次用于导入第一个meta graph。\n",
    "\n",
    "第一个参数：\n",
    "\n",
    "传入当前的session，包含了graph的结构与所有变量。\n",
    "\n",
    "第二个参数：\n",
    "\n",
    "给当前需要保存的meta graph一个标签，标签名可以自定义，在之后载入模型的时候，需要根据这个标签名去查找对应的MetaGraphDef，找不到就会报找不到的错误。\n",
    "\n",
    "标签也可以选用系统定义好的参数，如tf.saved_model.tag_constants.SERVING与tf.saved_model.tag_constants.TRAINING。"
   ]
  },
  {
   "cell_type": "markdown",
   "metadata": {},
   "source": [
    "Save方法就是将模型序列化到指定目录底下。\n",
    "\n",
    "保存好以后到saved_model_dir目录下，会有一个saved_model.pb文件以及variables文件夹。顾名思义，variables保存所有变量，saved_model.pb用于保存模型结构等信息。"
   ]
  },
  {
   "cell_type": "markdown",
   "metadata": {},
   "source": [
    "### 模型的载入"
   ]
  },
  {
   "cell_type": "markdown",
   "metadata": {},
   "source": [
    "使用tf.saved_model.loader.load方法就可以载入模型"
   ]
  },
  {
   "cell_type": "code",
   "execution_count": 8,
   "metadata": {},
   "outputs": [
    {
     "name": "stdout",
     "output_type": "stream",
     "text": [
      "WARNING:tensorflow:From /home/ec2-user/anaconda3/envs/tensorflow_p36/lib/python3.6/site-packages/tensorflow/python/training/saver.py:1272: checkpoint_exists (from tensorflow.python.training.checkpoint_management) is deprecated and will be removed in a future version.\n",
      "Instructions for updating:\n",
      "Use standard file APIs to check for files with this prefix.\n",
      "INFO:tensorflow:Restoring parameters from ./saved_model/variables/variables\n"
     ]
    }
   ],
   "source": [
    "meta_graph_def = tf.saved_model.loader.load(sess, ['saved_model_demo'], saved_model_dir)"
   ]
  },
  {
   "cell_type": "code",
   "execution_count": 12,
   "metadata": {},
   "outputs": [
    {
     "name": "stdout",
     "output_type": "stream",
     "text": [
      "[-0.36471716 -0.9248953 ]\n"
     ]
    }
   ],
   "source": [
    "w1 = sess.graph.get_tensor_by_name('w1:0')\n",
    "print(sess.run(w1))"
   ]
  }
 ],
 "metadata": {
  "kernelspec": {
   "display_name": "Environment (conda_tensorflow_p36)",
   "language": "python",
   "name": "conda_tensorflow_p36"
  },
  "language_info": {
   "codemirror_mode": {
    "name": "ipython",
    "version": 3
   },
   "file_extension": ".py",
   "mimetype": "text/x-python",
   "name": "python",
   "nbconvert_exporter": "python",
   "pygments_lexer": "ipython3",
   "version": "3.6.5"
  }
 },
 "nbformat": 4,
 "nbformat_minor": 2
}
