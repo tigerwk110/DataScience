{
 "cells": [
  {
   "cell_type": "markdown",
   "metadata": {},
   "source": [
    "# 模型保存与恢复\n",
    "\n",
    "Tensorflow中支持两种模型的保存。\n",
    "- 检查点: 这种格式依赖于创建模型的代码。\n",
    "- SavedModel：这种格式与创建模型的代码无关。"
   ]
  },
  {
   "cell_type": "markdown",
   "metadata": {},
   "source": [
    "## 检查点\n",
    "检查点是训练期间所创建的模型版本。\n",
    "检查点目录结构如下："
   ]
  },
  {
   "cell_type": "markdown",
   "metadata": {},
   "source": [
    "--checkpoint_dir\n",
    "|    |--checkpoint\n",
    "|    |--model.meta\n",
    "|    |--model.data-00000-of-00001\n",
    "|    |--model.index"
   ]
  },
  {
   "cell_type": "markdown",
   "metadata": {},
   "source": [
    "### meta文件\n",
    "meta文件保存的是图的结构，meta文件是pb（protocol buffer）格式文件。\n",
    "\n",
    "### ckpt文件\n",
    "ckpt文件，保存了网络结构中所有 权重和偏置 的数值。\n",
    "\n",
    "data与index构成ckpt文件。\n",
    "\n",
    ".data文件保存的是变量值，\n",
    "\n",
    ".index文件保存的是.data文件中数据和 .meta文件中结构图之间的对应关系。\n",
    "\n",
    "在tensorflow 0.11之前，保存在**.ckpt文件中。\n",
    "\n",
    "0.11后，通过两个文件保存,如：\n",
    "\n",
    "model.data-00000-of-00001\n",
    "\n",
    "model.index\n",
    "\n",
    "### checkpoint文件\n",
    "checkpoint是一个文本文件，记录了训练过程中在所有中间节点上保存的模型的名称，\n",
    "\n",
    "首行记录的是最后（最近）一次保存的模型名称。"
   ]
  },
  {
   "cell_type": "markdown",
   "metadata": {},
   "source": [
    "## 保存到检查点\n",
    "\n",
    "检查点的最主要作用是继续训练。\n",
    "\n",
    "使用`tf.train.Saver()`将模型保存到检查点。\n",
    "\n",
    "需要注意的是，tensorflow变量的作用范围是在一个session里面，所以在保存模型的时候，应该在session里面通过save方法保存。"
   ]
  },
  {
   "cell_type": "code",
   "execution_count": 1,
   "metadata": {},
   "outputs": [
    {
     "name": "stdout",
     "output_type": "stream",
     "text": [
      "WARNING:tensorflow:From /home/ec2-user/anaconda3/envs/tensorflow_p36/lib/python3.6/site-packages/tensorflow/python/framework/op_def_library.py:263: colocate_with (from tensorflow.python.framework.ops) is deprecated and will be removed in a future version.\n",
      "Instructions for updating:\n",
      "Colocations handled automatically by placer.\n",
      "<tf.Variable 'w1:0' shape=(2,) dtype=float32_ref>\n",
      "Tensor(\"w2:0\", shape=(5,), dtype=int32)\n"
     ]
    }
   ],
   "source": [
    "import tensorflow as tf\n",
    "\n",
    "w1 = tf.Variable(tf.random_normal(shape=[2]), name='w1')\n",
    "w2 = tf.constant([1, 2, 3, 4, 5], shape=[5] , name='w2')\n",
    "print(w1)\n",
    "print(w2)\n",
    "# 使用tf.train.Saver()定义一个存储器对象\n",
    "saver = tf.train.Saver()\n",
    "sess = tf.Session()\n",
    "sess.run(tf.global_variables_initializer())\n",
    "\n",
    "# 使用saver.save保存模型\n",
    "#saver.save(sess, 'model')\n",
    "\n",
    "# 保存相应变量到指定文件, 如果指定 global_step, 则实际保存的名称变为 model.ckpt-xxxx\n",
    "# saver.save(sess, \"./model.ckpt\", global_step=epoch)\n",
    "saver.save(sess, './ckpts/model.ckpt', global_step=1)\n",
    "sess.close()"
   ]
  },
  {
   "cell_type": "markdown",
   "metadata": {},
   "source": [
    "### 读取检查点模型\n",
    "Tensorflow 模型的读取分为两种, \n",
    "\n",
    "一种是我们仅读取模型变量, 即 index 文件和 data 文件\n",
    "\n",
    "另一种是读取计算图。\n",
    "\n",
    "通常来说如果是我们自己保存的模型, 那么完全可以设置 saver.save() 函数的 write_meta_graph 参数为 False 以节省空间和保存的时间, \n",
    "\n",
    "因为我们可以使用已有的代码直接重新构建计算图. 当然如果为了模型迁移到其他地方, 则最好同时保存变量和计算图."
   ]
  },
  {
   "cell_type": "markdown",
   "metadata": {},
   "source": [
    "#### 读取计算图\n",
    "读取模型权重也很简单, 仍然使用 tf.train.Saver() 来读取:"
   ]
  },
  {
   "cell_type": "markdown",
   "metadata": {},
   "source": [
    "从 meta 文件读取计算图使用 tf.train.import_meta_graph() 函数, 比如:"
   ]
  },
  {
   "cell_type": "code",
   "execution_count": 2,
   "metadata": {},
   "outputs": [],
   "source": [
    "with tf.Session() as sess:\n",
    "    new_saver = tf.train.import_meta_graph('./ckpts/model.ckpt-1.meta')"
   ]
  },
  {
   "cell_type": "markdown",
   "metadata": {},
   "source": [
    "此时计算图就会加载到 sess 的默认计算图中, 这样我们就无需再次使用大量的脚本来定义计算图了。\n",
    "\n",
    "实际上使用上面这两行代码即可完成计算图的读取。\n",
    "\n",
    "**注意**可能我们获取的模型(meta文件)同时包含定义在CPU主机(host)和GPU等设备(device)上的, 上面的代码保留了原始的设备信息。\n",
    "\n",
    "此时如果我们想同时加载模型权重, 那么如果当前没有指定设备的话就会出现错误, 因为tensorflow无法按照模型中的定义把某些变量(的值)放在指定的设备上。\n",
    "\n",
    "那么有一个办法是增加一个参数清除设备信息。"
   ]
  },
  {
   "cell_type": "code",
   "execution_count": 3,
   "metadata": {},
   "outputs": [],
   "source": [
    "with tf.Session() as sess:\n",
    "    new_saver = tf.train.import_meta_graph('./ckpts/model.ckpt-1.meta', clear_devices=True)"
   ]
  },
  {
   "cell_type": "markdown",
   "metadata": {},
   "source": [
    "#### 读取模型权重\n",
    "读取模型权重也很简单, 仍然使用 tf.train.Saver() 来读取:"
   ]
  },
  {
   "cell_type": "code",
   "execution_count": 4,
   "metadata": {},
   "outputs": [
    {
     "name": "stdout",
     "output_type": "stream",
     "text": [
      "WARNING:tensorflow:From /home/ec2-user/anaconda3/envs/tensorflow_p36/lib/python3.6/site-packages/tensorflow/python/training/saver.py:1272: checkpoint_exists (from tensorflow.python.training.checkpoint_management) is deprecated and will be removed in a future version.\n",
      "Instructions for updating:\n",
      "Use standard file APIs to check for files with this prefix.\n",
      "INFO:tensorflow:Restoring parameters from ./ckpts/model.ckpt-1\n"
     ]
    }
   ],
   "source": [
    "with tf.Session() as sess:\n",
    "    saver.restore(sess, './ckpts/model.ckpt-1')"
   ]
  },
  {
   "cell_type": "markdown",
   "metadata": {},
   "source": [
    "注意模型路径中应当以诸如 .ckpt 之类的来结尾, 即需要保证实际存在的文件是 model.ckpt.data-00000-of-00001 和 model.ckpt.index , 而指定的路径是 model.ckpt 即可。\n",
    "\n",
    "注意, 载入的模型变量是不需要再初始化的(即不需要 tf.variable_initializer() 初始化)"
   ]
  },
  {
   "cell_type": "markdown",
   "metadata": {},
   "source": [
    "### 冻结模型\n",
    "我们冻结模型的目的是不再训练, 而仅仅做正向推导使用, \n",
    "\n",
    "所以才会把变量转换为常量后同计算图结构保存在协议缓冲区文件(.pb)中, 因此需要在计算图中预先定义输出节点的名称."
   ]
  },
  {
   "cell_type": "code",
   "execution_count": 5,
   "metadata": {},
   "outputs": [
    {
     "name": "stdout",
     "output_type": "stream",
     "text": [
      "INFO:tensorflow:Restoring parameters from ./ckpts/model.ckpt-1\n",
      "WARNING:tensorflow:From <ipython-input-5-eb5f408555e4>:15: convert_variables_to_constants (from tensorflow.python.framework.graph_util_impl) is deprecated and will be removed in a future version.\n",
      "Instructions for updating:\n",
      "Use tf.compat.v1.graph_util.convert_variables_to_constants\n",
      "WARNING:tensorflow:From /home/ec2-user/anaconda3/envs/tensorflow_p36/lib/python3.6/site-packages/tensorflow/python/framework/graph_util_impl.py:245: extract_sub_graph (from tensorflow.python.framework.graph_util_impl) is deprecated and will be removed in a future version.\n",
      "Instructions for updating:\n",
      "Use tf.compat.v1.graph_util.extract_sub_graph\n",
      "INFO:tensorflow:Froze 1 variables.\n",
      "INFO:tensorflow:Converted 1 variables to const ops.\n"
     ]
    }
   ],
   "source": [
    "# 指定模型输出, 这样可以允许自动裁剪无关节点. 这里认为使用逗号分割\n",
    "output_nodes = ['w1', 'w2']\n",
    "\n",
    "# 1. 加载模型\n",
    "saver = tf.train.import_meta_graph('./ckpts/model.ckpt-1.meta', clear_devices=True)\n",
    "\n",
    "with tf.Session(graph=tf.get_default_graph()) as sess:\n",
    "    # 序列化模型\n",
    "    input_graph_def = sess.graph.as_graph_def()\n",
    "    # 2. 载入权重\n",
    "    saver.restore(sess, './ckpts/model.ckpt-1')\n",
    "    # 3. 转换变量为常量\n",
    "    output_graph_def = tf.graph_util.convert_variables_to_constants(sess,\n",
    "                                                                    input_graph_def,\n",
    "                                                                    output_nodes)\n",
    "    # 4. 写入文件\n",
    "    with open('frozen_model.pb', 'wb') as f:\n",
    "        f.write(output_graph_def.SerializeToString())"
   ]
  },
  {
   "cell_type": "markdown",
   "metadata": {},
   "source": [
    "#### 调用模型\n",
    "\n",
    "模型的执行过程也很简单, 首先从协议缓冲区文件(*.pb)中读取模型, 然后导入计算图"
   ]
  },
  {
   "cell_type": "code",
   "execution_count": 6,
   "metadata": {},
   "outputs": [
    {
     "name": "stdout",
     "output_type": "stream",
     "text": [
      "['MyGraph/w1', 'MyGraph/w2']\n"
     ]
    }
   ],
   "source": [
    "frozen_graph_path = './frozen_model.pb'\n",
    "# 读取模型并保存到序列化模型对象中\n",
    "with open(frozen_graph_path, 'rb') as f:\n",
    "    graph_def = tf.GraphDef()\n",
    "    graph_def.ParseFromString(f.read())\n",
    "\n",
    "# 导入计算图\n",
    "graph = tf.Graph()\n",
    "with graph.as_default():\n",
    "    tf.import_graph_def(graph_def, name=\"MyGraph\")\n",
    "    print([tensor.name for tensor in tf.get_default_graph().as_graph_def().node])\n"
   ]
  },
  {
   "cell_type": "markdown",
   "metadata": {},
   "source": [
    "之后就是获取输入和输出的张量对象, \n",
    "\n",
    "注意, 在 Tensorflow的计算图结构中, 我们只能使用 feed_dict 把数值数组传入张量 Tensor , 同时也只能获取张量的值, 而不能给Operation 赋值. 由于我们导入序列化模型到计算图时给定了 name 参数, 所以导入所有操作都会加上 MyGraph 前缀.\n",
    "\n",
    "接下来我们获取输入和输出对应的张量:"
   ]
  },
  {
   "cell_type": "code",
   "execution_count": 7,
   "metadata": {},
   "outputs": [
    {
     "name": "stdout",
     "output_type": "stream",
     "text": [
      "[-0.51579756 -0.27759436]\n"
     ]
    }
   ],
   "source": [
    "with graph.as_default():\n",
    "    x_tensor = graph.get_tensor_by_name('MyGraph/w1:0')\n",
    "    with tf.Session() as sess:\n",
    "        print(sess.run(x_tensor))"
   ]
  }
 ],
 "metadata": {
  "kernelspec": {
   "display_name": "Environment (conda_tensorflow_p36)",
   "language": "python",
   "name": "conda_tensorflow_p36"
  },
  "language_info": {
   "codemirror_mode": {
    "name": "ipython",
    "version": 3
   },
   "file_extension": ".py",
   "mimetype": "text/x-python",
   "name": "python",
   "nbconvert_exporter": "python",
   "pygments_lexer": "ipython3",
   "version": "3.6.5"
  }
 },
 "nbformat": 4,
 "nbformat_minor": 2
}
