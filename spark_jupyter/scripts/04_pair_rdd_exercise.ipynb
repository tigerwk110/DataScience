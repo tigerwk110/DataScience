{
 "cells": [
  {
   "cell_type": "markdown",
   "metadata": {},
   "source": [
    "# Pair RDD编程练习题 \n",
    "说明：下面题目中给出的所有数据都要转成rdd，请不要直接使用普通的python方法进行处理"
   ]
  },
  {
   "cell_type": "code",
   "execution_count": 1,
   "metadata": {},
   "outputs": [],
   "source": [
    "from pyspark import SparkContext\n",
    "\n",
    "sc = SparkContext('local', 'Pair RDD Exercise')"
   ]
  },
  {
   "cell_type": "markdown",
   "metadata": {},
   "source": [
    "###  题目1.\n",
    "将[\"coffee\", \"i really like coffee\", \"coffee > magic\", \"panda < coffee\"]转换为Pari RDD。<br>\n",
    "key为列表中的字符串的第一个单词（以空格划分），value为原字符串。<br>\n",
    "只保留键值对RDD中字符串长度小于20的元素。"
   ]
  },
  {
   "cell_type": "code",
   "execution_count": 3,
   "metadata": {},
   "outputs": [
    {
     "name": "stdout",
     "output_type": "stream",
     "text": [
      "('coffee', 'coffee')\n",
      "('coffee', 'coffee > magic')\n",
      "('panda', 'panda < coffee')\n"
     ]
    }
   ],
   "source": [
    "def basicKeyValueMapFilter(input):\n",
    "    \"\"\"Construct a key/value RDD and then filter on the value\"\"\"\n",
    "    return input.map(lambda x: (x.split(\" \")[0], x)).filter(\n",
    "        lambda x: len(x[1]) < 20)\n",
    "\n",
    "input = sc.parallelize([\"coffee\", \"i really like coffee\", \"coffee > magic\", \"panda < coffee\"])\n",
    "output = sorted(basicKeyValueMapFilter(input).collect())\n",
    "for elem in output:\n",
    "    print(elem)\n"
   ]
  },
  {
   "cell_type": "markdown",
   "metadata": {},
   "source": [
    "## 题目2\n",
    "统计文本中单词的个数"
   ]
  },
  {
   "cell_type": "code",
   "execution_count": 11,
   "metadata": {},
   "outputs": [
    {
     "data": {
      "text/plain": [
       "[('Spark', 3), ('Python', 3), ('Hadoop', 2), ('Java', 3), ('Shell', 2)]"
      ]
     },
     "execution_count": 11,
     "metadata": {},
     "output_type": "execute_result"
    }
   ],
   "source": [
    "textFile = sc.textFile('./data/words')\n",
    "word_count = textFile.flatMap(lambda line: line.split(\" \"))\\\n",
    "                     .map(lambda word: (word,1))\\\n",
    "                     .reduceByKey(lambda a, b : a + b)\n",
    "word_count.collect()"
   ]
  },
  {
   "cell_type": "markdown",
   "metadata": {},
   "source": [
    "## 题目3\n",
    "统[('Spark', 3), ('Python', 3), ('Hadoop', 2), ('Java', 3), ('Shell', 2), ('Spark', 1), ('Shell', 5)]\n",
    "同一个key，对应value的均值"
   ]
  },
  {
   "cell_type": "code",
   "execution_count": 14,
   "metadata": {},
   "outputs": [
    {
     "data": {
      "text/plain": [
       "[2.0, 3.0, 2.0, 3.0, 3.5]"
      ]
     },
     "execution_count": 14,
     "metadata": {},
     "output_type": "execute_result"
    }
   ],
   "source": [
    "rdd = sc.parallelize([('Spark', 3), ('Python', 3), ('Hadoop', 2), ('Java', 3), ('Shell', 2), ('Spark', 1), ('Shell', 5)])\n",
    "# 转换为pairRDD形式\n",
    "pairRDD = rdd.map(lambda t: (t[0], t[1]))\n",
    "# mapValues(func)是对每个value进行操作\n",
    "sum_num = pairRDD.mapValues(lambda x: (x, 1)).reduceByKey(lambda x, y: (x[0] + y[0], x[1] + y[1]))\n",
    "sum_num.map(lambda x: x[1][0] / x[1][1]).collect()"
   ]
  }
 ],
 "metadata": {
  "kernelspec": {
   "display_name": "Python 3",
   "language": "python",
   "name": "python3"
  },
  "language_info": {
   "codemirror_mode": {
    "name": "ipython",
    "version": 3
   },
   "file_extension": ".py",
   "mimetype": "text/x-python",
   "name": "python",
   "nbconvert_exporter": "python",
   "pygments_lexer": "ipython3",
   "version": "3.7.3"
  }
 },
 "nbformat": 4,
 "nbformat_minor": 2
}
