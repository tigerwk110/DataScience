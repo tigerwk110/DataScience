{
 "cells": [
  {
   "cell_type": "markdown",
   "metadata": {},
   "source": [
    "## 初始化SparkContext"
   ]
  },
  {
   "cell_type": "markdown",
   "metadata": {},
   "source": [
    "### 问题1\n",
    "在spark上用pyspark进行spark的初始化时候，报错：\n",
    "ValueError: Cannot run multiple SparkContexts at once; existing SparkContext(app=PySparkShell, master=local[*]) created by at /usr/spark/spark-2.2.0-bin-hadoop2.7/python/pyspark/shell.py:45\n",
    "\n",
    "解决方法：\n",
    "是因为原来的初始化没有关闭，所以，\n",
    "首先，sc.stop()\n",
    "然后，conf = SparkConf().setAppName().setMaster()\n",
    "sc = SparkContext()"
   ]
  },
  {
   "cell_type": "code",
   "execution_count": 9,
   "metadata": {},
   "outputs": [
    {
     "name": "stdout",
     "output_type": "stream",
     "text": [
      "30\n",
      "['2. run docker', 'docker run -d -p 8888:8888 -v /home/ec2-user/notebooks:/workspace dataquestio/python3-starter', '3. run demo']\n"
     ]
    }
   ],
   "source": [
    "from pyspark import SparkConf, SparkContext\n",
    "\n",
    "conf = SparkConf().setMaster('local').setAppName('My first spark APP')\n",
    "try:\n",
    "    sc.stop()\n",
    "except:\n",
    "    print('Spark Context can not be stopped.')\n",
    "          \n",
    "sc = SparkContext(conf=conf)\n",
    "\n",
    "lines = sc.textFile('../jupyter_memo')\n",
    "print(lines.count())\n",
    "\n",
    "runLines = lines.filter(lambda line: 'run' in line)\n",
    "print(runLines.take(10))"
   ]
  },
  {
   "cell_type": "code",
   "execution_count": null,
   "metadata": {},
   "outputs": [],
   "source": []
  }
 ],
 "metadata": {
  "kernelspec": {
   "display_name": "Python 3",
   "language": "python",
   "name": "python3"
  },
  "language_info": {
   "codemirror_mode": {
    "name": "ipython",
    "version": 3
   },
   "file_extension": ".py",
   "mimetype": "text/x-python",
   "name": "python",
   "nbconvert_exporter": "python",
   "pygments_lexer": "ipython3",
   "version": "3.7.3"
  }
 },
 "nbformat": 4,
 "nbformat_minor": 2
}
