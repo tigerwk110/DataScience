{
 "cells": [
  {
   "cell_type": "code",
   "execution_count": null,
   "metadata": {},
   "outputs": [],
   "source": [
    "%matplotlib inline"
   ]
  },
  {
   "cell_type": "markdown",
   "metadata": {},
   "source": [
    "\n",
    "# 使用手写字体\n",
    "加载手写字体识别模型来对手写字体进行识别\n",
    "## 1. 首先引入需要的包"
   ]
  },
  {
   "cell_type": "code",
   "execution_count": 1,
   "metadata": {},
   "outputs": [],
   "source": [
    "import matplotlib.pyplot as plt\n",
    "\n",
    "# Import datasets, classifiers and performance metrics\n",
    "from sklearn import datasets, svm, metrics\n",
    "from sklearn.externals import joblib"
   ]
  },
  {
   "cell_type": "markdown",
   "metadata": {},
   "source": [
    "## 2. 使用matplotlib观察数据的\n",
    "### 2.1 提示\n",
    "我们使用matplotlib.pyplot.imshow()方法来展示图片。\n",
    "常用两个参数imshow(X, cmap)\n",
    "参数X：\n",
    "他可以接受以下形式的数组：\n",
    "- (M, N): 灰度图\n",
    "- (M, N, 3): RGB\n",
    "- (M, N, 4): RGBA <br>\n",
    "\n",
    "参数 cmap\n",
    "cmap为colormap\n",
    "参照： https://matplotlib.org/examples/color/colormaps_reference.html <br>\n",
    "例子：\n",
    "gray：0-255 级灰度，0：黑色，1：白色，黑底白字；\n",
    "gray_r：翻转 gray 的显示，如果 gray 将图像显示为黑底白字，gray_r会将其显示为白底黑字；\n",
    "使用例子\n",
    "```\n",
    "import cv2\n",
    "import matplotlib.pyplot as plt\n",
    "img = cv2.imread('img_1.jpg', cv2.IMREAD_GRAYSCALE)\n",
    "print(img.shape)  # (318, 425)\n",
    "fig, ax = plt.subplots()\n",
    "ax.imshow(img, cmap='gray')\n",
    "plt.show()\n",
    "```\n",
    "### 2.2 展示前4张手写数字图片"
   ]
  },
  {
   "cell_type": "code",
   "execution_count": 2,
   "metadata": {},
   "outputs": [
    {
     "data": {
      "image/png": "[encoded data removed]",
      "text/plain": [
       "<Figure size 432x288 with 4 Axes>"
      ]
     },
     "metadata": {
      "needs_background": "light"
     },
     "output_type": "display_data"
    }
   ],
   "source": [
    "# sklearn 内置了几种常用的数据集，不需要额外下载·\n",
    "# https://scikit-learn.org/stable/datasets/index.html\n",
    "# 引入手写数字 digits dataset\n",
    "digits = datasets.load_digits()\n",
    "# 每张图片是8*8的数组。首先我们看一些数据的样式\n",
    "# 他们存储在iamges变量中，target变量是图片的对应的类\n",
    "images_and_labels = list(zip(digits.images, digits.target))\n",
    "for index, (image, label) in enumerate(images_and_labels[:4]):\n",
    "    plt.subplot(1, 4, index + 1)\n",
    "    # 不显示坐标轴\n",
    "    plt.axis('off')\n",
    "    plt.imshow(image, cmap=plt.cm.gray_r)\n",
    "    plt.title('Training: %i' % label)"
   ]
  },
  {
   "cell_type": "markdown",
   "metadata": {},
   "source": [
    "## 3. 对数据处理\n",
    "因为我们需要对每张图片进行分类，所以需要把(8*8)的矩阵转换成一行。"
   ]
  },
  {
   "cell_type": "code",
   "execution_count": 3,
   "metadata": {},
   "outputs": [],
   "source": [
    "n_samples = len(digits.images)\n",
    "data = digits.images.reshape((n_samples, -1))\n"
   ]
  },
  {
   "cell_type": "markdown",
   "metadata": {},
   "source": [
    "## 4. 加载模型、评估模型、展示预测结果"
   ]
  },
  {
   "cell_type": "code",
   "execution_count": 4,
   "metadata": {},
   "outputs": [],
   "source": [
    "classifier = joblib.load(\"./svm_digits_cls\")#参数为路径，返回模型\n",
    "# Now predict the value of the digit on the second half:\n",
    "expected = digits.target\n",
    "predicted = classifier.predict(data)"
   ]
  },
  {
   "cell_type": "code",
   "execution_count": 5,
   "metadata": {},
   "outputs": [
    {
     "name": "stdout",
     "output_type": "stream",
     "text": [
      "Classification report for classifier SVC(C=1.0, cache_size=200, class_weight=None, coef0=0.0,\n",
      "  decision_function_shape='ovr', degree=3, gamma=0.001, kernel='rbf',\n",
      "  max_iter=-1, probability=False, random_state=None, shrinking=True,\n",
      "  tol=0.001, verbose=False):\n",
      "              precision    recall  f1-score   support\n",
      "\n",
      "           0       1.00      0.99      1.00       178\n",
      "           1       0.99      0.98      0.99       182\n",
      "           2       0.99      0.99      0.99       177\n",
      "           3       0.99      0.93      0.96       183\n",
      "           4       0.99      0.98      0.99       181\n",
      "           5       0.97      0.98      0.98       182\n",
      "           6       0.99      0.99      0.99       181\n",
      "           7       0.98      0.99      0.99       179\n",
      "           8       0.97      1.00      0.98       174\n",
      "           9       0.96      0.99      0.97       180\n",
      "\n",
      "   micro avg       0.98      0.98      0.98      1797\n",
      "   macro avg       0.98      0.98      0.98      1797\n",
      "weighted avg       0.98      0.98      0.98      1797\n",
      "\n",
      "\n",
      "Confusion matrix:\n",
      "[[177   0   0   0   1   0   0   0   0   0]\n",
      " [  0 179   1   0   0   0   0   0   1   1]\n",
      " [  0   0 176   1   0   0   0   0   0   0]\n",
      " [  0   0   0 171   0   3   0   4   5   0]\n",
      " [  0   0   0   0 177   0   0   0   0   4]\n",
      " [  0   0   0   0   0 178   1   0   0   3]\n",
      " [  0   1   0   0   0   0 180   0   0   0]\n",
      " [  0   0   0   0   0   1   0 178   0   0]\n",
      " [  0   0   0   0   0   0   0   0 174   0]\n",
      " [  0   0   0   1   0   1   0   0   0 178]]\n"
     ]
    }
   ],
   "source": [
    "print(\"Classification report for classifier %s:\\n%s\\n\"\n",
    "      % (classifier, metrics.classification_report(expected, predicted)))\n",
    "print(\"Confusion matrix:\\n%s\" % metrics.confusion_matrix(expected, predicted))"
   ]
  },
  {
   "cell_type": "code",
   "execution_count": 6,
   "metadata": {},
   "outputs": [
    {
     "data": {
      "image/png": "[encoded data removed]",
      "text/plain": [
       "<Figure size 432x288 with 12 Axes>"
      ]
     },
     "metadata": {
      "needs_background": "light"
     },
     "output_type": "display_data"
    }
   ],
   "source": [
    "images_and_predictions = list(zip(digits.images, predicted))\n",
    "for index, (image, prediction) in enumerate(images_and_predictions[:12]):\n",
    "    plt.subplot(3, 4, index + 1)\n",
    "    plt.axis('off')\n",
    "    plt.imshow(image, cmap=plt.cm.gray_r)\n",
    "    plt.title('Prediction: %i' % prediction)\n",
    "plt.show()"
   ]
  }
 ],
 "metadata": {
  "kernelspec": {
   "display_name": "Python 3",
   "language": "python",
   "name": "python3"
  },
  "language_info": {
   "codemirror_mode": {
    "name": "ipython",
    "version": 3
   },
   "file_extension": ".py",
   "mimetype": "text/x-python",
   "name": "python",
   "nbconvert_exporter": "python",
   "pygments_lexer": "ipython3",
   "version": "3.7.3"
  }
 },
 "nbformat": 4,
 "nbformat_minor": 2
}
