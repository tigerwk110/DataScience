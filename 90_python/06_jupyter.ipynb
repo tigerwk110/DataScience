{
 "cells": [
  {
   "cell_type": "markdown",
   "metadata": {
    "slideshow": {
     "slide_type": "slide"
    }
   },
   "source": [
    "# Jupyter Notebook"
   ]
  },
  {
   "cell_type": "markdown",
   "metadata": {
    "slideshow": {
     "slide_type": "subslide"
    }
   },
   "source": [
    "# 是否存在这样的工具\n",
    "1. 数据分析后得到结果，但是结果报告应该如何展示呢？\n",
    "2. 想把把分析的代码和逻辑统一管理。方便之后的追逐。\n",
    "3. 想可视化确认代码的结果，但是使用交互模式没办法达到"
   ]
  },
  {
   "cell_type": "markdown",
   "metadata": {
    "slideshow": {
     "slide_type": "subslide"
    }
   },
   "source": [
    "# Jupyter 是完全可以解决这些问题的\n",
    "<img src=\"./images/jupyter.png\">"
   ]
  },
  {
   "cell_type": "markdown",
   "metadata": {
    "slideshow": {
     "slide_type": "subslide"
    }
   },
   "source": [
    "# 什么是Jupyter Notebook\n",
    "- 可以简单的共享编写完成的代码与文档<br>\n",
    "1） 支持多种编程语言（R语言也支持）<br>\n",
    "2）Nobebook本身是可以共享的<br>\n",
    "3）可以交互的执行\n",
    "- 可以交互的显示图形\n",
    "- 可以使用markdown"
   ]
  },
  {
   "cell_type": "markdown",
   "metadata": {
    "slideshow": {
     "slide_type": "subslide"
    }
   },
   "source": [
    "# Jupyter Notebook 可以做什么\n",
    "- 可以执行代码。一般是python程序，但是也可以添加新的编程语言输出结果可以可视化<br>\n",
    "　>>使用%matplotlib inline 语句，可以输出matplotlib的图形\n",
    "- 可以使用markdown功能写文档，或者写PPT，这个ppt就是用jupyter notebook生成的<br>\n",
    "- 各种个样的插件\n",
    "- Github现在已经对应.ipynb文件了"
   ]
  },
  {
   "cell_type": "markdown",
   "metadata": {
    "slideshow": {
     "slide_type": "subslide"
    }
   },
   "source": [
    "# 一个Jupyter Notebook的例子\n",
    "- 包含了代码\n",
    "- 图标\n",
    "<img src=\"./images/screenshot1.png\">"
   ]
  },
  {
   "cell_type": "markdown",
   "metadata": {
    "slideshow": {
     "slide_type": "subslide"
    }
   },
   "source": [
    "# 为什么用Jupyter Notebook\n",
    "- Jupyter Notebook可以把分析过程，中途的代码结果保留下来\n",
    "- 可以快速的进行实验\n",
    "- 可以结果Jupyter Notebook整理成文档\n",
    "- Jupyter的ipynb文件是基于json文件的，所以可以灵活的转换与读取<br>\n",
    "  可以导出成pdf、py、latex等多种文档形式"
   ]
  },
  {
   "cell_type": "markdown",
   "metadata": {
    "slideshow": {
     "slide_type": "subslide"
    }
   },
   "source": [
    "# 启动Jupyter Notebook\n",
    "## Mac\n",
    "**方式1** :在终端属于`jupyter notebook`\n",
    "\n",
    "<img src=\"./images/jupyter_1.png\">"
   ]
  },
  {
   "cell_type": "markdown",
   "metadata": {
    "slideshow": {
     "slide_type": "subslide"
    }
   },
   "source": [
    "# 启动Jupyter Notebook\n",
    "## Mac\n",
    "**方式2** : Anaconda-navigator 中点击jupyter notebook\n",
    "<img src=\"./images/jupyter_2.png\">"
   ]
  },
  {
   "cell_type": "markdown",
   "metadata": {
    "slideshow": {
     "slide_type": "subslide"
    }
   },
   "source": [
    "# 启动Jupyter Notebook\n",
    "## Windows\n",
    "**方式1** : 直接点击jupyter notebook<br>\n",
    "<img src=\"./images/jupyter_6.png\">"
   ]
  },
  {
   "cell_type": "markdown",
   "metadata": {},
   "source": [
    "# 启动Jupyter Notebook\n",
    "## Windows\n",
    "**方式2** : 在Anaconda promot中输入jupyter notebook<br>"
   ]
  },
  {
   "cell_type": "markdown",
   "metadata": {
    "slideshow": {
     "slide_type": "subslide"
    }
   },
   "source": [
    "# Jupyter Notebook默认路径\n",
    "<img src=\"./images/jupyter_3.png\">"
   ]
  },
  {
   "cell_type": "markdown",
   "metadata": {
    "slideshow": {
     "slide_type": "subslide"
    }
   },
   "source": [
    "# Jupyter Notebook默认路径\n",
    "<img src=\"./images/jupyter_4.png\">"
   ]
  },
  {
   "cell_type": "markdown",
   "metadata": {
    "slideshow": {
     "slide_type": "subslide"
    }
   },
   "source": [
    "# 修改默认路径\n",
    "在终端输入` jupyter notebook --generate-config`\n",
    "## Mac\n",
    "<img src=\"./images/jupyter_5.png\">\n",
    "`c.NotebookApp.notebook_dir = '/Users/cn40883/Documents/dhc'`\n",
    "## Windows\n",
    "<img src=\"./images/jupyter_8.png\">"
   ]
  },
  {
   "cell_type": "markdown",
   "metadata": {},
   "source": [
    "# 修改默认浏览器\n",
    "<img src=\"./images/jupyter_7.png\">"
   ]
  },
  {
   "cell_type": "markdown",
   "metadata": {
    "slideshow": {
     "slide_type": "subslide"
    }
   },
   "source": [
    "# 常用Markdown\n",
    "## 标题\n",
    "# 一级标题： \\# + 空格 + 内容\n",
    "## 二级标题： \\## + 空格 + 内容\n",
    "### 三级标题： \\### + 空格 + 内容\n",
    "#### 四级标题： \\#### + 空格 + 内容\n",
    "##### 五级标题： \\# + 空格 + 内容"
   ]
  },
  {
   "cell_type": "markdown",
   "metadata": {
    "slideshow": {
     "slide_type": "subslide"
    }
   },
   "source": [
    "# 常用Markdown\n",
    "## 列表\n",
    "## 无序列表\n",
    "- \\- + 空格 + 内容\n",
    "- \\- + 空格 + 内容\n",
    "## 有序列表\n",
    "1. 1\\. + 空格 + 内容\n",
    "2. 2\\.  + 空格 + 内容"
   ]
  },
  {
   "cell_type": "markdown",
   "metadata": {
    "slideshow": {
     "slide_type": "subslide"
    }
   },
   "source": [
    "# 常用Markdown\n",
    "## 换行\n",
    "< br >\n",
    "\n",
    "## 在markdown中写代码\n",
    "\\`print(\"Hello world.\")\\` \n",
    "`print(\"Hello world.\")`\n",
    "\n",
    "## 转义字符\n",
    "特殊字符前加\\\\\n",
    "\n",
    "## 字体\n",
    "*斜体*: \\*斜体\\*<br>\n",
    "**加粗**: \\*\\*加粗\\*\\*<br>\n",
    "***粗斜体***: \\*\\*\\*粗斜体\\*\\*\\*<br>  \n",
    "或者 \n",
    "_强调_: \\_强调\\_ <br>\n",
    "__加粗__: \\_\\_加粗\\_\\_<br>\n",
    "___粗斜体___: _\\__粗斜体_\\__<br>"
   ]
  },
  {
   "cell_type": "markdown",
   "metadata": {
    "slideshow": {
     "slide_type": "subslide"
    }
   },
   "source": [
    "# 常用快捷键\n",
    "- 使用esc退出cell的编辑，编辑时，左侧是绿的，退出编辑时左侧是蓝色的\n",
    "- 退出编辑后，m 是切换为markdown模式，y是切换为代码模式\n",
    "- 退出编辑后, a 是在当前cell上方添加新的cell\n",
    "- 退出编辑后, b 是在当前cell下方添加新的cell\n",
    "- 退出编辑后, x 是在删除当前cell\n",
    "- shift + enter 执行当前cell"
   ]
  }
 ],
 "metadata": {
  "celltoolbar": "Slideshow",
  "kernelspec": {
   "display_name": "Python 3",
   "language": "python",
   "name": "python3"
  },
  "language_info": {
   "codemirror_mode": {
    "name": "ipython",
    "version": 3
   },
   "file_extension": ".py",
   "mimetype": "text/x-python",
   "name": "python",
   "nbconvert_exporter": "python",
   "pygments_lexer": "ipython3",
   "version": "3.7.3"
  }
 },
 "nbformat": 4,
 "nbformat_minor": 2
}
