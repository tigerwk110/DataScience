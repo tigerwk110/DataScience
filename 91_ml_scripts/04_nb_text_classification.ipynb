{
 "cells": [
  {
   "cell_type": "markdown",
   "metadata": {},
   "source": [
    "# 朴素贝叶斯文档自动分类模型\n",
    "\n",
    "使用朴素贝叶斯训练一个文档分类模型，当给定一篇文章的时候，将文章自动分类为属于哪一个新闻组织结构的文章。\n",
    "数据中共有5种新闻组织机构（5个类别），每个类别中有1000篇张文章。"
   ]
  },
  {
   "cell_type": "markdown",
   "metadata": {},
   "source": [
    "## 1. 导入包"
   ]
  },
  {
   "cell_type": "code",
   "execution_count": 1,
   "metadata": {},
   "outputs": [],
   "source": [
    "import os\n",
    "import string\n",
    "import numpy as np\n",
    "import matplotlib.pyplot as plt\n",
    "from sklearn import model_selection\n",
    "from sklearn.naive_bayes import MultinomialNB\n",
    "from sklearn.metrics import classification_report"
   ]
  },
  {
   "cell_type": "markdown",
   "metadata": {},
   "source": [
    "## 2. 加载数据并构建训练集与测试集"
   ]
  },
  {
   "cell_type": "code",
   "execution_count": 2,
   "metadata": {},
   "outputs": [
    {
     "name": "stdout",
     "output_type": "stream",
     "text": [
      "Data load done\n"
     ]
    }
   ],
   "source": [
    "data_path = './data/5_newsgroups'\n",
    "# X存储初始化的数据，以(filename, text)的形式存储\n",
    "X = []\n",
    "# 将文章对应的类别存储在Y中\n",
    "Y = []\n",
    "for category in os.listdir(data_path):\n",
    "    for document in os.listdir(data_path + os.sep + category):\n",
    "        with open(data_path + os.sep + category + os.sep + document, 'rb') as f:\n",
    "            X.append((document,str(f.read())))\n",
    "            Y.append(category)\n",
    "print('Data load done')\n",
    "\n",
    "X_train, X_test, Y_train, Y_test = model_selection.train_test_split(X, Y, test_size=0.25, random_state=0)"
   ]
  },
  {
   "cell_type": "code",
   "execution_count": 3,
   "metadata": {},
   "outputs": [],
   "source": [
    "# 一些常见不会对分类有影响的单词\n",
    "stopwords = ['a', 'about', 'above', 'across', 'after', 'afterwards', 'again', 'against', 'all', 'almost', 'alone',\n",
    "             'along', 'already', 'also', 'although', 'always', 'am', 'among', 'amongst', 'amoungst', 'amount',\n",
    "             'an', 'and', 'another', 'any', 'anyhow', 'anyone', 'anything', 'anyway', 'anywhere', 'are', 'around',\n",
    "             'as', 'at', 'back', 'be', 'became', 'because', 'become', 'becomes', 'becoming', 'been', 'before',\n",
    "             'beforehand', 'behind', 'being', 'below', 'beside', 'besides', 'between', 'beyond', 'bill', 'both',\n",
    "             'bottom', 'but', 'by', 'call', 'can', 'cannot', 'cant', 'co', 'con', 'could', 'couldnt', 'cry', 'de',\n",
    "             'describe', 'detail', 'did', 'do', 'does', 'doing', 'don', 'done', 'down', 'due', 'during', 'each', 'eg',\n",
    "             'eight', 'either', 'eleven', 'else', 'elsewhere', 'empty', 'enough', 'etc', 'even', 'ever', 'every', 'everyone',\n",
    "             'everything', 'everywhere', 'except', 'few', 'fifteen', 'fify', 'fill', 'find', 'fire', 'first', 'five', 'for',\n",
    "             'former', 'formerly', 'forty', 'found', 'four', 'from', 'front', 'full', 'further', 'get', 'give', 'go', 'had',\n",
    "             'has', 'hasnt', 'have', 'having', 'he', 'hence', 'her', 'here', 'hereafter', 'hereby', 'herein', 'hereupon',\n",
    "             'hers', 'herself', 'him', 'himself', 'his', 'how', 'however', 'hundred', 'i', 'ie', 'if', 'in', 'inc', 'indeed',\n",
    "             'interest', 'into', 'is', 'it', 'its', 'itself', 'just', 'keep', 'last', 'latter', 'latterly', 'least', 'less',\n",
    "             'ltd', 'made', 'many', 'may', 'me', 'meanwhile', 'might', 'mill', 'mine', 'more', 'moreover', 'most', 'mostly',\n",
    "             'move', 'much', 'must', 'my', 'myself', 'name', 'namely', 'neither', 'never', 'nevertheless', 'next', 'nine',\n",
    "             'no', 'nobody', 'none', 'noone', 'nor', 'not', 'nothing', 'now', 'nowhere', 'of', 'off', 'often', 'on', 'once',\n",
    "             'one', 'only', 'onto', 'or', 'other', 'others', 'otherwise', 'our', 'ours', 'ourselves', 'out', 'over', 'own',\n",
    "             'part', 'per', 'perhaps', 'please', 'put', 'rather', 're', 's', 'same', 'see', 'seem', 'seemed', 'seeming',\n",
    "             'seems', 'serious', 'several', 'she', 'should', 'show', 'side', 'since', 'sincere', 'six', 'sixty', 'so', \n",
    "             'some', 'somehow', 'someone', 'something', 'sometime', 'sometimes', 'somewhere', 'still', 'such', 'system',\n",
    "             't', 'take', 'ten', 'than', 'that', 'the', 'their', 'theirs', 'them', 'themselves', 'then', 'thence', 'there',\n",
    "             'thereafter', 'thereby', 'therefore', 'therein', 'thereupon', 'these', 'they', 'thickv', 'thin', 'third', 'this',\n",
    "             'those', 'though', 'three', 'through', 'throughout', 'thru', 'thus', 'to', 'together', 'too', 'top', 'toward',\n",
    "             'towards', 'twelve', 'twenty', 'two', 'un', 'under', 'until', 'up', 'upon', 'us', 'very', 'via', 'was', 'we',\n",
    "             'well', 'were', 'what', 'whatever', 'when', 'whence', 'whenever', 'where', 'whereafter', 'whereas', 'whereby',\n",
    "             'wherein', 'whereupon', 'wherever', 'whether', 'which', 'while', 'whither', 'who', 'whoever', 'whole', 'whom',\n",
    "             'whose', 'why', 'will', 'with', 'within', 'without', 'would', 'yet', 'you', 'your', 'yours', 'yourself',\n",
    "             'yourselves']"
   ]
  },
  {
   "cell_type": "code",
   "execution_count": 4,
   "metadata": {},
   "outputs": [],
   "source": [
    "# 根据数据集中给定的文章构建字典\n",
    "# key为数据集中出现的单词，value为出现单词的数目\n",
    "vocab = {}\n",
    "for i in range(len(X_train)):\n",
    "    word_list = []\n",
    "    for word in X_train[i][1].split():\n",
    "        # 删除字符串（单词）前后的标点符号\n",
    "        word_new  = word.strip(string.punctuation).lower()\n",
    "        # 将两个字母以上的单词并且不在stopwords列表中的单词加入到字典中\n",
    "        if (len(word_new)>2)  and (word_new not in stopwords):  \n",
    "            if word_new in vocab:\n",
    "                vocab[word_new]+=1\n",
    "            else:\n",
    "                vocab[word_new]=1            "
   ]
  },
  {
   "cell_type": "markdown",
   "metadata": {},
   "source": [
    "### 3. 数据预处理\n",
    "删除出现频次很低的单词。"
   ]
  },
  {
   "cell_type": "code",
   "execution_count": 5,
   "metadata": {
    "scrolled": true
   },
   "outputs": [
    {
     "data": {
      "image/png": "[encoded data removed]",
      "text/plain": [
       "<Figure size 432x288 with 1 Axes>"
      ]
     },
     "metadata": {
      "needs_background": "light"
     },
     "output_type": "display_data"
    }
   ],
   "source": [
    "# 打印单词在指定频次下出现的次数\n",
    "# x轴：单词出现的频次，y轴，在某一个频次下，共有多少个单词\n",
    "num_words = [0 for i in range(max(vocab.values()) + 1)] \n",
    "\n",
    "freq = [i for i in range(max(vocab.values()) + 1)] \n",
    "for key in vocab:\n",
    "    num_words[vocab[key]] += 1\n",
    "plt.plot(freq, num_words)\n",
    "plt.axis([1, 100, 0, 2000])\n",
    "plt.xlabel(\"Frequency\")\n",
    "plt.ylabel(\"No of words\")\n",
    "plt.grid()\n",
    "plt.show()"
   ]
  },
  {
   "cell_type": "code",
   "execution_count": 6,
   "metadata": {},
   "outputs": [
    {
     "name": "stdout",
     "output_type": "stream",
     "text": [
      "Number of words with frequency higher than cutoff frequency(60) : 1029\n"
     ]
    }
   ],
   "source": [
    "cutoff_freq = 60\n",
    "# For deciding cutoff frequency\n",
    "num_words_above_cutoff = len(vocab) - sum(num_words[0: cutoff_freq]) \n",
    "print(\"Number of words with frequency higher than cutoff frequency({}) :\".format(cutoff_freq), num_words_above_cutoff)"
   ]
  },
  {
   "cell_type": "code",
   "execution_count": 7,
   "metadata": {},
   "outputs": [],
   "source": [
    "# 将出现次数高于60的单词作为特征\n",
    "features = []\n",
    "for key in vocab:\n",
    "    if vocab[key] >= cutoff_freq:\n",
    "        features.append(key)"
   ]
  },
  {
   "cell_type": "markdown",
   "metadata": {},
   "source": [
    "重新构建训练集和测试集，训练集是一个len(X_train),len(features)的二维数组。<br>\n",
    "数值对应着每个单词在某一篇文章中出现的次数"
   ]
  },
  {
   "cell_type": "code",
   "execution_count": 8,
   "metadata": {
    "scrolled": true
   },
   "outputs": [
    {
     "name": "stdout",
     "output_type": "stream",
     "text": [
      "Train set is being constructed.\n",
      "....Train set (3750, 1029)\n",
      "Done.\n"
     ]
    }
   ],
   "source": [
    "X_train_dataset = np.zeros((len(X_train), len(features)))\n",
    "print('Train set is being constructed.')\n",
    "for i in range(len(X_train)):\n",
    "    if i%1000 == 0:\n",
    "        print('.', end=\"\")\n",
    "    word_list = [ word.strip(string.punctuation).lower() for word in X_train[i][1].split()]\n",
    "    for word in word_list:\n",
    "        if word in features:\n",
    "            X_train_dataset[i][features.index(word)] += 1\n",
    "print('Train set', X_train_dataset.shape)\n",
    "print('Done.')"
   ]
  },
  {
   "cell_type": "code",
   "execution_count": 9,
   "metadata": {},
   "outputs": [
    {
     "name": "stdout",
     "output_type": "stream",
     "text": [
      "Test set is being constructed.\n",
      "..Test set (1250, 1029)\n",
      "Test set construct. Done.\n"
     ]
    }
   ],
   "source": [
    "X_test_dataset = np.zeros((len(X_test),len(features)))\n",
    "print('Test set is being constructed.')\n",
    "\n",
    "# This can take some time to complete\n",
    "for i in range(len(X_test)):\n",
    "    if i%1000 == 0:\n",
    "        print('.', end=\"\")\n",
    "    # print(i) # Uncomment to see progress\n",
    "    word_list = [ word.strip(string.punctuation).lower() for word in X_test[i][1].split()]\n",
    "    for word in word_list:\n",
    "        if word in features:\n",
    "            X_test_dataset[i][features.index(word)] += 1\n",
    "print('Test set', X_test_dataset.shape)\n",
    "print('Test set construct. Done.')"
   ]
  },
  {
   "cell_type": "markdown",
   "metadata": {},
   "source": [
    "## 4. 训练与评估模型\n",
    "提示：classification_report函数产生的support的解释如下，<br>\n",
    "sklearn官方文档的解释是“The support is the number of occurrences of each class in y_true.”<br>\n",
    "class I的suppport是k，意思就是说该测试集中有k个样本的真实分类为class I.<br>\n",
    "表格中class alt.atheism support = 238就是说，测试集里有2238个样本的真实标签是alt.atheism"
   ]
  },
  {
   "cell_type": "code",
   "execution_count": 10,
   "metadata": {
    "scrolled": false
   },
   "outputs": [
    {
     "name": "stdout",
     "output_type": "stream",
     "text": [
      "Classification report for testing data :\n",
      "                          precision    recall  f1-score   support\n",
      "\n",
      "             alt.atheism       0.97      0.98      0.97       238\n",
      "           comp.graphics       0.93      0.85      0.89       244\n",
      " comp.os.ms-windows.misc       0.83      0.92      0.87       252\n",
      "comp.sys.ibm.pc.hardware       0.91      0.84      0.87       272\n",
      "   comp.sys.mac.hardware       0.91      0.95      0.93       244\n",
      "\n",
      "               micro avg       0.91      0.91      0.91      1250\n",
      "               macro avg       0.91      0.91      0.91      1250\n",
      "            weighted avg       0.91      0.91      0.91      1250\n",
      "\n"
     ]
    }
   ],
   "source": [
    "# Using sklearn's Multinomial Naive Bayes\n",
    "clf = MultinomialNB()\n",
    "# 训练\n",
    "clf.fit(X_train_dataset, Y_train)\n",
    "Y_test_pred = clf.predict(X_test_dataset)\n",
    "# 生成报告\n",
    "print(\"Classification report for testing data :\")\n",
    "print(classification_report(Y_test, Y_test_pred))"
   ]
  },
  {
   "cell_type": "code",
   "execution_count": null,
   "metadata": {},
   "outputs": [],
   "source": []
  }
 ],
 "metadata": {
  "kernelspec": {
   "display_name": "Python 3",
   "language": "python",
   "name": "python3"
  },
  "language_info": {
   "codemirror_mode": {
    "name": "ipython",
    "version": 3
   },
   "file_extension": ".py",
   "mimetype": "text/x-python",
   "name": "python",
   "nbconvert_exporter": "python",
   "pygments_lexer": "ipython3",
   "version": "3.7.3"
  }
 },
 "nbformat": 4,
 "nbformat_minor": 2
}
