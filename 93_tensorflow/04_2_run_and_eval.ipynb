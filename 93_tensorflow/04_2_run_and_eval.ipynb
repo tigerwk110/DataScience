{
 "cells": [
  {
   "cell_type": "markdown",
   "metadata": {},
   "source": [
    "# Tensorflow：.run()和.eval()区别\n",
    "\n",
    "`eval()` 其实就是`tf.Tensor的Session.run()` 的另外一种写法，但两者有差别\n",
    "1. eval()也是启动计算的一种方式。基于Tensorflow的基本原理，首先需要定义图，然后计算图，其中计算图的函数常见的有run()函数，如sess.run()。同样eval()也是此类函数，\n",
    "2. 要注意的是，eval()只能用于tf.Tensor类对象，也就是有输出的Operation。对于没有输出的Operation, 可以用.run()或者Session.run()；Session.run()没有这个限制。\n",
    "\n",
    "如果你有一个`Tensor t`，在使用`t.eval()`时，等价于：`tf.get_default_session().run(t)`."
   ]
  },
  {
   "cell_type": "code",
   "execution_count": 3,
   "metadata": {},
   "outputs": [],
   "source": [
    "import tensorflow as tf\n",
    "\n",
    "t = tf.constant(42.0)\n",
    "sess = tf.Session()\n",
    "with sess.as_default():   # or `with sess:` to close on exit\n",
    "    assert sess is tf.get_default_session()\n",
    "    assert t.eval() == sess.run(t)"
   ]
  },
  {
   "cell_type": "markdown",
   "metadata": {},
   "source": [
    "主要的区别就在于你可以使用sess.run()在同一步获取多个tensor中的值，"
   ]
  },
  {
   "cell_type": "code",
   "execution_count": 7,
   "metadata": {},
   "outputs": [
    {
     "name": "stdout",
     "output_type": "stream",
     "text": [
      "1554.0\n",
      "1554.0\n",
      "[1554.0, 1554.0]\n"
     ]
    }
   ],
   "source": [
    "t = tf.constant(42.0)\n",
    "u = tf.constant(37.0)\n",
    "tu = tf.multiply(t, u)\n",
    "ut = tf.multiply(u, t)\n",
    "with sess.as_default():\n",
    "    print(tu.eval())  # runs one step\n",
    "    print(ut.eval()) # runs one step\n",
    "    print(sess.run([tu, ut])) "
   ]
  },
  {
   "cell_type": "code",
   "execution_count": null,
   "metadata": {},
   "outputs": [],
   "source": []
  }
 ],
 "metadata": {
  "kernelspec": {
   "display_name": "Python 3",
   "language": "python",
   "name": "python3"
  },
  "language_info": {
   "codemirror_mode": {
    "name": "ipython",
    "version": 3
   },
   "file_extension": ".py",
   "mimetype": "text/x-python",
   "name": "python",
   "nbconvert_exporter": "python",
   "pygments_lexer": "ipython3",
   "version": "3.7.3"
  }
 },
 "nbformat": 4,
 "nbformat_minor": 2
}
